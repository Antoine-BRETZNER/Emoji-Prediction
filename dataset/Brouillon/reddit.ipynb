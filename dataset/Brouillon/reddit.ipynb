{
 "cells": [
  {
   "cell_type": "code",
   "execution_count": 15,
   "metadata": {},
   "outputs": [],
   "source": [
    "import requests\n",
    "from bs4 import BeautifulSoup"
   ]
  },
  {
   "cell_type": "code",
   "execution_count": 16,
   "metadata": {},
   "outputs": [],
   "source": [
    "url = 'https://www.reddit.com/r/france/'\n",
    "headers = { \n",
    "    'User-Agent': 'Mozilla/5.0 (Windows NT 10.0; Win64; x64) AppleWebKit/537.36 (KHTML, like Gecko) Chrome/89.0.4389.82 Safari/537.36', \n",
    "    'Accept-Language': 'fr-FR,fr;q=0.9,en-US;q=0.8,en;q=0.7' \n",
    "}\n",
    "response = requests.get(url, headers=headers)"
   ]
  },
  {
   "cell_type": "code",
   "execution_count": 17,
   "metadata": {},
   "outputs": [],
   "source": [
    "soup = BeautifulSoup(response.text, 'html.parser')"
   ]
  },
  {
   "cell_type": "code",
   "execution_count": 18,
   "metadata": {},
   "outputs": [
    {
     "name": "stdout",
     "output_type": "stream",
     "text": [
      "Title: No title\n",
      "Link: No link\n",
      "Flair: No flair\n",
      "Summary: No summary\n",
      "--------------------------------------------------------------------------------\n",
      "Title: No title\n",
      "Link: No link\n",
      "Flair: No flair\n",
      "Summary: No summary\n",
      "--------------------------------------------------------------------------------\n",
      "Title: No title\n",
      "Link: No link\n",
      "Flair: No flair\n",
      "Summary: No summary\n",
      "--------------------------------------------------------------------------------\n"
     ]
    }
   ],
   "source": [
    "# Extraire les posts\n",
    "posts = soup.find_all('a', slot='title')\n",
    "\n",
    "# Afficher les informations des posts\n",
    "for post in posts:\n",
    "    # Extraire le titre\n",
    "    title_tag = post.find('a', id=lambda x: x and x.startswith('post-title-'))\n",
    "    title = title_tag.text if title_tag else 'No title'\n",
    "\n",
    "    # Extraire le lien du post\n",
    "    link_tag = post.find('a', class_='absolute inset-0')\n",
    "    link = f\"https://www.reddit.com{link_tag['href']}\" if link_tag else 'No link'\n",
    "\n",
    "    # Extraire la catégorie (flair)\n",
    "    flair_tag = post.find('shreddit-post-flair')\n",
    "    flair = flair_tag.text.strip() if flair_tag else 'No flair'\n",
    "\n",
    "    # Extraire le résumé\n",
    "    summary_tag = post.find('div', id=lambda x: x and x.endswith('-post-rtjson-content'))\n",
    "    summary = summary_tag.text.strip() if summary_tag else 'No summary'\n",
    "\n",
    "    print(f\"Title: {title}\")\n",
    "    print(f\"Link: {link}\")\n",
    "    print(f\"Flair: {flair}\")\n",
    "    print(f\"Summary: {summary}\")\n",
    "    print(\"-\" * 80)\n"
   ]
  },
  {
   "cell_type": "code",
   "execution_count": 19,
   "metadata": {},
   "outputs": [
    {
     "name": "stdout",
     "output_type": "stream",
     "text": [
      "<a class=\"block font-semibold text-neutral-content-strong m-0 visited:text-neutral-content-weak text-16 xs:text-18 mb-2xs xs:mb-xs overflow-hidden\" href=\"/r/france/comments/1hla8d2/un_auditeur_donne_son_avis_sur_manuel_valls_en/\" id=\"post-title-t3_1hla8d2\" slot=\"title\">\n",
      "     Un auditeur donne son avis sur Manuel Valls en direct (France Inter - 24/12/2024, Joyeux Noël !)\n",
      "  </a>\n",
      "--------------------------------------------------------------------------------\n",
      "<a class=\"block font-semibold text-neutral-content-strong m-0 visited:text-neutral-content-weak text-16 xs:text-18 mb-2xs xs:mb-xs overflow-hidden\" href=\"/r/france/comments/1hl5hjo/cest_quoi_votre_cadeau_qui_tue_cette_année/\" id=\"post-title-t3_1hl5hjo\" slot=\"title\">\n",
      "     C'est quoi votre cadeau qui tue cette année ?\n",
      "  </a>\n",
      "--------------------------------------------------------------------------------\n",
      "<a class=\"block font-semibold text-neutral-content-strong m-0 visited:text-neutral-content-weak text-16 xs:text-18 mb-2xs xs:mb-xs overflow-hidden\" href=\"/r/france/comments/1hl9qi5/étatsunis_ces_candidats_au_ministère_de_musk/\" id=\"post-title-t3_1hl9qi5\" slot=\"title\">\n",
      "     États-Unis. Ces candidats au “ministère” de Musk prêts à travailler gratis 80 heures par semaine [Wall Street Journal via le Courrier International]\n",
      "  </a>\n",
      "--------------------------------------------------------------------------------\n"
     ]
    }
   ],
   "source": [
    "for i in range (len(posts)):\n",
    "    print(posts[i])\n",
    "    print(\"-\" * 80)"
   ]
  },
  {
   "cell_type": "code",
   "execution_count": 14,
   "metadata": {},
   "outputs": [
    {
     "name": "stdout",
     "output_type": "stream",
     "text": [
      "<html>\n",
      " <head>\n",
      "  <title>\n",
      "   Blocked\n",
      "  </title>\n",
      "  <style>\n",
      "   body {\n",
      "          font: small verdana, arial, helvetica, sans-serif;\n",
      "          width: 600px;\n",
      "          margin: 0 auto;\n",
      "      }\n",
      "\n",
      "      h1 {\n",
      "          height: 40px;\n",
      "          background: transparent url(//www.redditstatic.com/reddit.com.header.png) no-repeat scroll top right;\n",
      "      }\n",
      "  </style>\n",
      " </head>\n",
      " <body>\n",
      "  <h1>\n",
      "   whoa there, pardner!\n",
      "  </h1>\n",
      "  <p>\n",
      "   Your request has been blocked due to a network policy.\n",
      "  </p>\n",
      "  <p>\n",
      "   Try logging in or creating an account\n",
      "   <a href=\"https://www.reddit.com/login/\">\n",
      "    here\n",
      "   </a>\n",
      "   to get back to browsing.\n",
      "  </p>\n",
      "  <p>\n",
      "   If you're running a script or application, please register or sign in with your developer credentials\n",
      "   <a href=\"https://www.reddit.com/wiki/api/\">\n",
      "    here\n",
      "   </a>\n",
      "   . Additionally make sure your User-Agent is not empty and is something unique and descriptive and try again. if you're supplying an alternate User-Agent string,\n",
      "try changing back to default as that can sometimes result in a block.\n",
      "  </p>\n",
      "  <p>\n",
      "   You can read Reddit's Terms of Service\n",
      "   <a href=\"https://www.reddit.com/wiki/api/\">\n",
      "    here\n",
      "   </a>\n",
      "   .\n",
      "  </p>\n",
      "  <p>\n",
      "   if you think that we've incorrectly blocked you or you would like to discuss\n",
      "easier ways to get the data you want, please file a ticket\n",
      "   <a href=\"https://support.reddithelp.com/hc/en-us/requests/new?ticket_form_id=21879292693140\">\n",
      "    here\n",
      "   </a>\n",
      "   .\n",
      "  </p>\n",
      "  <p>\n",
      "   when contacting us, please include your ip address which is:\n",
      "   <strong>\n",
      "    2a01:cb0c:308:9900:a458:1b98:543d:fa15\n",
      "   </strong>\n",
      "   and reddit account\n",
      "  </p>\n",
      " </body>\n",
      "</html>\n",
      "\n",
      "Nombre de posts trouvés : 0\n"
     ]
    }
   ],
   "source": [
    "import time\n",
    "import requests\n",
    "from bs4 import BeautifulSoup\n",
    "from selenium import webdriver\n",
    "from selenium.webdriver.common.by import By\n",
    "from selenium.webdriver.common.keys import Keys\n",
    "from selenium.webdriver.chrome.service import Service\n",
    "from selenium.webdriver.chrome.options import Options\n",
    "\n",
    "# Configuration du driver Chrome\n",
    "chrome_options = Options()\n",
    "chrome_options.add_argument(\"--headless\")\n",
    "service = Service('/home/antoine/Téléchargements/chromedriver-linux64/chromedriver')  # Remplacez par le chemin vers votre chromedriver\n",
    "driver = webdriver.Chrome(service=service, options=chrome_options)\n",
    "\n",
    "# Ouvrir la page Reddit\n",
    "url = 'https://www.reddit.com/r/france/'\n",
    "driver.get(url)\n",
    "time.sleep(3)  # Attendre que la page se charge\n",
    "\n",
    "# Faire défiler la page pour charger plus de posts\n",
    "body = driver.find_element(By.CSS_SELECTOR, 'body')\n",
    "for _ in range(5):  # Nombre de fois à faire défiler\n",
    "    body.send_keys(Keys.END)\n",
    "    time.sleep(2)  # Attendre que les nouveaux posts se chargent\n",
    "\n",
    "# Obtenir le contenu de la page après le défilement\n",
    "page_source = driver.page_source\n",
    "driver.quit()\n",
    "\n",
    "# Analyser le contenu HTML avec BeautifulSoup\n",
    "soup = BeautifulSoup(page_source, 'html.parser')\n",
    "\n",
    "# Afficher une partie du contenu HTML pour inspection\n",
    "print(soup.prettify())\n",
    "\n",
    "# Extraire les posts en utilisant un sélecteur CSS\n",
    "posts = soup.select('a[slot=\"title\"]')\n",
    "\n",
    "# Afficher le nombre de posts trouvés\n",
    "print(f\"Nombre de posts trouvés : {len(posts)}\")\n",
    "\n",
    "# Limiter l'extraction à 10 posts\n",
    "limited_posts = posts[:10]\n",
    "\n",
    "# Afficher les informations des 10 premiers posts\n",
    "for post in limited_posts:\n",
    "    # Extraire le titre\n",
    "    title = post.text.strip()\n",
    "\n",
    "    # Extraire le lien du post\n",
    "    link = f\"https://www.reddit.com{post['href']}\"\n",
    "\n",
    "    print(f\"Titre : {title}\")\n",
    "    print(f\"Lien : {link}\")\n",
    "    print(\"-\" * 80)\n"
   ]
  },
  {
   "cell_type": "code",
   "execution_count": 12,
   "metadata": {},
   "outputs": [
    {
     "data": {
      "text/plain": [
       "[]"
      ]
     },
     "execution_count": 12,
     "metadata": {},
     "output_type": "execute_result"
    }
   ],
   "source": [
    "posts = soup.select('a[slot=\"title\"]')\n",
    "posts"
   ]
  }
 ],
 "metadata": {
  "kernelspec": {
   "display_name": "Python 3",
   "language": "python",
   "name": "python3"
  },
  "language_info": {
   "codemirror_mode": {
    "name": "ipython",
    "version": 3
   },
   "file_extension": ".py",
   "mimetype": "text/x-python",
   "name": "python",
   "nbconvert_exporter": "python",
   "pygments_lexer": "ipython3",
   "version": "3.10.12"
  }
 },
 "nbformat": 4,
 "nbformat_minor": 2
}
